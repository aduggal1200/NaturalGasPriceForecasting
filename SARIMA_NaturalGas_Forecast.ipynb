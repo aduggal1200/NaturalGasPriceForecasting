{
  "cells": [
    {
      "cell_type": "code",
      "execution_count": null,
      "metadata": {
        "colab": {
          "base_uri": "https://localhost:8080/",
          "height": 206
        },
        "id": "g41Vc_wP760W",
        "outputId": "ba61d339-f904-4253-8164-1c23e420f1f0"
      },
      "outputs": [],
      "source": [
        "# Imports\n",
        "import pandas as pd\n",
        "import matplotlib.pyplot as plt\n",
        "from statsmodels.tsa.seasonal import seasonal_decompose\n",
        "from statsmodels.tsa.stattools import adfuller\n",
        "from statsmodels.graphics.tsaplots import plot_acf, plot_pacf\n",
        "from statsmodels.tsa.statespace.sarimax import SARIMAX\n",
        "\n",
        "# Load dataset\n",
        "data = pd.read_csv('INSERT FILE PATH HERE')\n",
        "\n",
        "# Display initial data\n",
        "data.head()\n"
      ]
    },
    {
      "cell_type": "code",
      "execution_count": null,
      "metadata": {
        "colab": {
          "base_uri": "https://localhost:8080/",
          "height": 465
        },
        "id": "f3eWpnN2LDM6",
        "outputId": "21b568e4-d399-4114-8961-79450bc7222f"
      },
      "outputs": [],
      "source": [
        "# Convert 'Dates' column to datetime for better visualization\n",
        "data['Dates'] = pd.to_datetime(data['Dates'])\n",
        "\n",
        "# Plot price evolution\n",
        "plt.figure(figsize=(14, 6))\n",
        "plt.plot(data['Dates'], data['Prices'], marker='o', linestyle='-', color='b')\n",
        "plt.title('Natural Gas Prices Over Time')\n",
        "plt.xlabel('Date')\n",
        "plt.ylabel('Price')\n",
        "plt.grid(True)\n",
        "plt.tight_layout()\n",
        "plt.show()\n",
        "\n"
      ]
    },
    {
      "cell_type": "code",
      "execution_count": null,
      "metadata": {},
      "outputs": [],
      "source": [
        "%pip install statsmodels\n"
      ]
    },
    {
      "cell_type": "code",
      "execution_count": null,
      "metadata": {
        "id": "eLaENndxLxT3"
      },
      "outputs": [],
      "source": [
        "# Decompose the time series to study its components\n",
        "decomposition = seasonal_decompose(data['Prices'], period=12)  # Assuming yearly seasonality with monthly data\n",
        "\n",
        "# Plot decomposition\n",
        "fig, axes = plt.subplots(4, 1, figsize=(14, 10))\n",
        "\n",
        "labels = ['Original', 'Trend', 'Seasonal', 'Residual']\n",
        "components = [data['Prices'], decomposition.trend, decomposition.seasonal, decomposition.resid]\n",
        "\n",
        "for i, ax in enumerate(axes):\n",
        "    ax.plot(data['Dates'], components[i], label=labels[i])\n",
        "    ax.legend(loc='upper left')\n",
        "    ax.set_title(f\"{labels[i]} Component\")\n",
        "    ax.grid(True)\n",
        "\n",
        "plt.tight_layout()\n",
        "plt.show()\n"
      ]
    },
    {
      "cell_type": "code",
      "execution_count": null,
      "metadata": {},
      "outputs": [],
      "source": [
        "# Test stationarity of the series\n",
        "def is_stationary(timeseries):\n",
        "    \"\"\"Check stationarity using the Augmented Dickey-Fuller test.\"\"\"\n",
        "    dftest = adfuller(timeseries, autolag='AIC')\n",
        "    return dftest[1] <= 0.05\n",
        "\n",
        "# Check original and differenced series\n",
        "is_stationary_original = is_stationary(data['Prices'])\n",
        "data['First Difference'] = data['Prices'].diff()\n",
        "is_stationary_first_diff = is_stationary(data['First Difference'].dropna())\n",
        "\n",
        "is_stationary_original, is_stationary_first_diff\n",
        "\n"
      ]
    },
    {
      "cell_type": "code",
      "execution_count": null,
      "metadata": {},
      "outputs": [],
      "source": [
        "# Plot ACF and PACF for insights into AR and MA terms\n",
        "fig, axes = plt.subplots(1, 2, figsize=(14, 4))\n",
        "plot_acf(data['First Difference'].dropna(), lags=20, ax=axes[0])\n",
        "axes[0].set_title('ACF for First Differenced Series')\n",
        "plot_pacf(data['First Difference'].dropna(), lags=20, ax=axes[1])\n",
        "axes[1].set_title('PACF for First Differenced Series')\n",
        "plt.tight_layout()\n",
        "plt.show()\n",
        "\n"
      ]
    },
    {
      "cell_type": "code",
      "execution_count": null,
      "metadata": {
        "colab": {
          "base_uri": "https://localhost:8080/"
        },
        "id": "CKCYV6JQMB2A",
        "outputId": "e6582d27-1821-4fbc-f7b3-6e16a06a6938"
      },
      "outputs": [],
      "source": [
        "# Fit SARIMA model\n",
        "model = SARIMAX(data['Prices'], order=(1,1,1), seasonal_order=(1,1,1,12))\n",
        "results = model.fit(disp=-1)\n",
        "results.summary()\n"
      ]
    },
    {
      "cell_type": "code",
      "execution_count": null,
      "metadata": {
        "colab": {
          "base_uri": "https://localhost:8080/",
          "height": 517
        },
        "id": "-pwoY8TaMNtF",
        "outputId": "dedd0724-a680-4c78-d316-4d8e275f5891"
      },
      "outputs": [],
      "source": [
        "# Compare actual and fitted values\n",
        "data['Fitted'] = results.fittedvalues\n",
        "\n",
        "plt.figure(figsize=(14, 6))\n",
        "plt.plot(data['Dates'], data['Prices'], label='Actual', color='blue')\n",
        "plt.plot(data['Dates'], data['Fitted'], label='Fitted', color='red', linestyle='--')\n",
        "plt.title('Actual vs Fitted Natural Gas Prices')\n",
        "plt.xlabel('Date')\n",
        "plt.ylabel('Price')\n",
        "plt.legend()\n",
        "plt.grid(True)\n",
        "plt.tight_layout()\n",
        "plt.show()\n"
      ]
    },
    {
      "cell_type": "code",
      "execution_count": null,
      "metadata": {},
      "outputs": [],
      "source": [
        "# Forecast for the next year\n",
        "forecast = results.get_forecast(steps=12)\n",
        "forecast_index = pd.date_range(data['Dates'].iloc[-1] + pd.Timedelta(days=1), periods=12, freq='M')\n",
        "forecast_series = pd.Series(forecast.predicted_mean.values, index=forecast_index)\n",
        "\n",
        "plt.figure(figsize=(14, 6))\n",
        "plt.plot(data['Dates'], data['Prices'], label='Historical', color='blue')\n",
        "plt.plot(forecast_index, forecast_series, label='Forecast', color='green', linestyle='--')\n",
        "plt.fill_between(forecast_index, forecast.conf_int()['lower Prices'], forecast.conf_int()['upper Prices'], color='green', alpha=0.1)\n",
        "plt.title('Natural Gas Prices Forecast')\n",
        "plt.xlabel('Date')\n",
        "plt.ylabel('Price')\n",
        "plt.legend()\n",
        "plt.grid(True)\n",
        "plt.tight_layout()\n",
        "plt.show()\n"
      ]
    }
  ],
  "metadata": {
    "colab": {
      "provenance": [],
      "toc_visible": true
    },
    "kernelspec": {
      "display_name": "Python 3",
      "name": "python3"
    },
    "language_info": {
      "codemirror_mode": {
        "name": "ipython",
        "version": 3
      },
      "file_extension": ".py",
      "mimetype": "text/x-python",
      "name": "python",
      "nbconvert_exporter": "python",
      "pygments_lexer": "ipython3",
      "version": "3.11.3"
    }
  },
  "nbformat": 4,
  "nbformat_minor": 0
}
